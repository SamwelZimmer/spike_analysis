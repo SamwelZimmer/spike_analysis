{
 "cells": [
  {
   "cell_type": "code",
   "execution_count": 38,
   "metadata": {},
   "outputs": [],
   "source": [
    "import h5py\n",
    "import matplotlib.pyplot as plt\n",
    "from pprint import pprint\n",
    "import pandas as pd"
   ]
  },
  {
   "cell_type": "code",
   "execution_count": 39,
   "metadata": {},
   "outputs": [],
   "source": [
    "# define constants\n",
    "SAMPLE_RATE = 25000\n",
    "DT = 1 / SAMPLE_RATE\n",
    "FILE_PATH = \"/Volumes/WD Passport/DataScienceProject/220113_S1_m.h5\"\n",
    "PRIMARY_COLOUR = \"black\"\n",
    "T = 100000"
   ]
  },
  {
   "cell_type": "markdown",
   "metadata": {},
   "source": [
    "Splitting the data so it is easier to store (for testing etc.).\n",
    "\n",
    "Each contains 100000 datapoints at a sample rate of 25000Hz resulting in 4 second long clips"
   ]
  },
  {
   "cell_type": "code",
   "execution_count": 40,
   "metadata": {},
   "outputs": [
    {
     "name": "stdout",
     "output_type": "stream",
     "text": [
      "Data\n",
      "Data/Recording_0\n",
      "Data/Recording_0/AnalogStream\n",
      "Data/Recording_0/AnalogStream/Stream_0\n",
      "Data/Recording_0/AnalogStream/Stream_0/ChannelData\n",
      "Data/Recording_0/AnalogStream/Stream_0/ChannelDataTimeStamps\n",
      "Data/Recording_0/AnalogStream/Stream_0/InfoChannel\n"
     ]
    }
   ],
   "source": [
    "# the times which we want to look at (seconds)\n",
    "slicing_start_timestamps = {\n",
    "    \"spontaneous\": 500,\n",
    "    \"grp\": 2000,\n",
    "    \"ttx\": 4500\n",
    "}\n",
    "\n",
    "# the data is stored in hdf5 format\n",
    "def print_structure(name, obj):\n",
    "    print(name)\n",
    "\n",
    "with h5py.File(FILE_PATH, \"r\") as f:\n",
    "\n",
    "    # view the hdf5 file structure\n",
    "    f.visititems(print_structure)\n",
    "\n",
    "    # get the channel data\n",
    "    channel_data = f['Data/Recording_0/AnalogStream/Stream_0/ChannelData']\n",
    "\n",
    "    # split the channel data into 3 small slices of different areas of interest\n",
    "    spontaneous_data = channel_data[:, slicing_start_timestamps[\"spontaneous\"] * SAMPLE_RATE : (slicing_start_timestamps[\"spontaneous\"] * SAMPLE_RATE) + T ]\n",
    "    grp_data = channel_data[:, slicing_start_timestamps[\"grp\"] * SAMPLE_RATE : (slicing_start_timestamps[\"grp\"] * SAMPLE_RATE) + T ]\n",
    "    ttx_data = channel_data[:, slicing_start_timestamps[\"ttx\"] * SAMPLE_RATE : (slicing_start_timestamps[\"ttx\"] * SAMPLE_RATE) + T ]"
   ]
  },
  {
   "cell_type": "code",
   "execution_count": 42,
   "metadata": {},
   "outputs": [],
   "source": [
    "# Convert to a pandas DataFrame\n",
    "spontaneous_df = pd.DataFrame(spontaneous_data.T)\n",
    "grp_df = pd.DataFrame(grp_data.T)\n",
    "ttx_df = pd.DataFrame(ttx_data.T)"
   ]
  },
  {
   "cell_type": "code",
   "execution_count": 44,
   "metadata": {},
   "outputs": [],
   "source": [
    "spontaneous_df.to_csv('../data/spontaneous_data.csv', index=False)\n",
    "grp_df.to_csv('../data/grp_data.csv', index=False)\n",
    "ttx_df.to_csv('../data/ttx_data.csv', index=False)"
   ]
  }
 ],
 "metadata": {
  "kernelspec": {
   "display_name": "data_analytics",
   "language": "python",
   "name": "data_analytics"
  },
  "language_info": {
   "codemirror_mode": {
    "name": "ipython",
    "version": 3
   },
   "file_extension": ".py",
   "mimetype": "text/x-python",
   "name": "python",
   "nbconvert_exporter": "python",
   "pygments_lexer": "ipython3",
   "version": "3.9.16"
  },
  "orig_nbformat": 4
 },
 "nbformat": 4,
 "nbformat_minor": 2
}
