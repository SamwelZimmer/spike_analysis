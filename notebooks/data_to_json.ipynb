{
 "cells": [
  {
   "cell_type": "code",
   "execution_count": 39,
   "metadata": {},
   "outputs": [],
   "source": [
    "import pandas as pd\n",
    "import matplotlib.pyplot as plt\n",
    "import numpy as np\n",
    "import sys\n",
    "from sklearn.decomposition import PCA\n",
    "from typing import Tuple\n",
    "import json"
   ]
  },
  {
   "cell_type": "code",
   "execution_count": 2,
   "metadata": {},
   "outputs": [],
   "source": [
    "# import the functions from local directory\n",
    "sys.path.append(\"../helpers/functions\")\n",
    "from data_from_h5 import get_data"
   ]
  },
  {
   "cell_type": "code",
   "execution_count": 3,
   "metadata": {},
   "outputs": [],
   "source": [
    "SAMPLE_RATE = 25000\n",
    "DT = 1 / SAMPLE_RATE\n",
    "PRIMARY_COLOUR = \"black\"\n",
    "T = 100000\n",
    "gain = .5  \n",
    "TIME = np.arange(0, T) * DT\n",
    "THRESHOLD_FACTOR = -5  # set a threshold mulitplier -> heuristic\n",
    "LOAD_FROM_REPO = True"
   ]
  },
  {
   "cell_type": "code",
   "execution_count": 4,
   "metadata": {},
   "outputs": [],
   "source": [
    "if LOAD_FROM_REPO:\n",
    "    # load csv into pandas dataframe\n",
    "    df = pd.read_csv(\"../data/spontaneous_data.csv\")\n",
    "\n",
    "    # print(df.shape)\n",
    "    # print(df.head())\n",
    "\n",
    "    # # choose some channels which are close to each other\n",
    "    # channels = [\"47\", \"48\", \"49\", \"50\"]\n",
    "\n",
    "    # # convert channel data to numpy array\n",
    "    # data = df[channels].values\n",
    "else:\n",
    "\n",
    "    # loading data from HDF5 file\n",
    "    df = get_data(\n",
    "        sample_rate=SAMPLE_RATE , \n",
    "        file_path=\"/Volumes/WD Passport/DataScienceProject/220113_S1_m.h5\", \n",
    "        data_path=\"Data/Recording_0/AnalogStream/Stream_0/ChannelData\", \n",
    "        start_timestamp=500, \n",
    "        duration=T * 5, \n",
    "        show_structure=True\n",
    "    )\n",
    "\n",
    "    # channels = [47, 48, 49, 50]\n",
    "\n",
    "    # # convert channel data to numpy array\n",
    "    # data = df[channels].values"
   ]
  },
  {
   "cell_type": "markdown",
   "metadata": {},
   "source": [
    "## Single Channel to JSON"
   ]
  },
  {
   "cell_type": "code",
   "execution_count": 5,
   "metadata": {},
   "outputs": [
    {
     "data": {
      "text/html": [
       "<div>\n",
       "<style scoped>\n",
       "    .dataframe tbody tr th:only-of-type {\n",
       "        vertical-align: middle;\n",
       "    }\n",
       "\n",
       "    .dataframe tbody tr th {\n",
       "        vertical-align: top;\n",
       "    }\n",
       "\n",
       "    .dataframe thead th {\n",
       "        text-align: right;\n",
       "    }\n",
       "</style>\n",
       "<table border=\"1\" class=\"dataframe\">\n",
       "  <thead>\n",
       "    <tr style=\"text-align: right;\">\n",
       "      <th></th>\n",
       "      <th>0</th>\n",
       "      <th>1</th>\n",
       "      <th>2</th>\n",
       "      <th>3</th>\n",
       "      <th>4</th>\n",
       "      <th>5</th>\n",
       "      <th>6</th>\n",
       "      <th>7</th>\n",
       "      <th>8</th>\n",
       "      <th>9</th>\n",
       "      <th>...</th>\n",
       "      <th>50</th>\n",
       "      <th>51</th>\n",
       "      <th>52</th>\n",
       "      <th>53</th>\n",
       "      <th>54</th>\n",
       "      <th>55</th>\n",
       "      <th>56</th>\n",
       "      <th>57</th>\n",
       "      <th>58</th>\n",
       "      <th>59</th>\n",
       "    </tr>\n",
       "  </thead>\n",
       "  <tbody>\n",
       "    <tr>\n",
       "      <th>0</th>\n",
       "      <td>29</td>\n",
       "      <td>25</td>\n",
       "      <td>-9</td>\n",
       "      <td>20</td>\n",
       "      <td>-4</td>\n",
       "      <td>8</td>\n",
       "      <td>71</td>\n",
       "      <td>8</td>\n",
       "      <td>-30</td>\n",
       "      <td>-18</td>\n",
       "      <td>...</td>\n",
       "      <td>78</td>\n",
       "      <td>12</td>\n",
       "      <td>-45</td>\n",
       "      <td>-24</td>\n",
       "      <td>20</td>\n",
       "      <td>28</td>\n",
       "      <td>18</td>\n",
       "      <td>21</td>\n",
       "      <td>-12</td>\n",
       "      <td>-24</td>\n",
       "    </tr>\n",
       "    <tr>\n",
       "      <th>1</th>\n",
       "      <td>38</td>\n",
       "      <td>-17</td>\n",
       "      <td>16</td>\n",
       "      <td>12</td>\n",
       "      <td>-13</td>\n",
       "      <td>1</td>\n",
       "      <td>64</td>\n",
       "      <td>-6</td>\n",
       "      <td>-29</td>\n",
       "      <td>-18</td>\n",
       "      <td>...</td>\n",
       "      <td>71</td>\n",
       "      <td>14</td>\n",
       "      <td>-43</td>\n",
       "      <td>-24</td>\n",
       "      <td>14</td>\n",
       "      <td>33</td>\n",
       "      <td>8</td>\n",
       "      <td>3</td>\n",
       "      <td>24</td>\n",
       "      <td>11</td>\n",
       "    </tr>\n",
       "    <tr>\n",
       "      <th>2</th>\n",
       "      <td>55</td>\n",
       "      <td>-23</td>\n",
       "      <td>24</td>\n",
       "      <td>31</td>\n",
       "      <td>10</td>\n",
       "      <td>4</td>\n",
       "      <td>37</td>\n",
       "      <td>-27</td>\n",
       "      <td>-10</td>\n",
       "      <td>-35</td>\n",
       "      <td>...</td>\n",
       "      <td>52</td>\n",
       "      <td>14</td>\n",
       "      <td>-37</td>\n",
       "      <td>-5</td>\n",
       "      <td>21</td>\n",
       "      <td>22</td>\n",
       "      <td>14</td>\n",
       "      <td>-2</td>\n",
       "      <td>58</td>\n",
       "      <td>38</td>\n",
       "    </tr>\n",
       "    <tr>\n",
       "      <th>3</th>\n",
       "      <td>48</td>\n",
       "      <td>-6</td>\n",
       "      <td>8</td>\n",
       "      <td>45</td>\n",
       "      <td>19</td>\n",
       "      <td>-6</td>\n",
       "      <td>8</td>\n",
       "      <td>-33</td>\n",
       "      <td>11</td>\n",
       "      <td>-60</td>\n",
       "      <td>...</td>\n",
       "      <td>32</td>\n",
       "      <td>12</td>\n",
       "      <td>-9</td>\n",
       "      <td>-5</td>\n",
       "      <td>29</td>\n",
       "      <td>-2</td>\n",
       "      <td>0</td>\n",
       "      <td>10</td>\n",
       "      <td>64</td>\n",
       "      <td>27</td>\n",
       "    </tr>\n",
       "    <tr>\n",
       "      <th>4</th>\n",
       "      <td>28</td>\n",
       "      <td>22</td>\n",
       "      <td>-4</td>\n",
       "      <td>53</td>\n",
       "      <td>1</td>\n",
       "      <td>-31</td>\n",
       "      <td>-5</td>\n",
       "      <td>-30</td>\n",
       "      <td>15</td>\n",
       "      <td>-66</td>\n",
       "      <td>...</td>\n",
       "      <td>25</td>\n",
       "      <td>22</td>\n",
       "      <td>20</td>\n",
       "      <td>-25</td>\n",
       "      <td>22</td>\n",
       "      <td>-2</td>\n",
       "      <td>-22</td>\n",
       "      <td>31</td>\n",
       "      <td>52</td>\n",
       "      <td>-6</td>\n",
       "    </tr>\n",
       "  </tbody>\n",
       "</table>\n",
       "<p>5 rows × 60 columns</p>\n",
       "</div>"
      ],
      "text/plain": [
       "    0   1   2   3   4   5   6   7   8   9  ...  50  51  52  53  54  55  56  \\\n",
       "0  29  25  -9  20  -4   8  71   8 -30 -18  ...  78  12 -45 -24  20  28  18   \n",
       "1  38 -17  16  12 -13   1  64  -6 -29 -18  ...  71  14 -43 -24  14  33   8   \n",
       "2  55 -23  24  31  10   4  37 -27 -10 -35  ...  52  14 -37  -5  21  22  14   \n",
       "3  48  -6   8  45  19  -6   8 -33  11 -60  ...  32  12  -9  -5  29  -2   0   \n",
       "4  28  22  -4  53   1 -31  -5 -30  15 -66  ...  25  22  20 -25  22  -2 -22   \n",
       "\n",
       "   57  58  59  \n",
       "0  21 -12 -24  \n",
       "1   3  24  11  \n",
       "2  -2  58  38  \n",
       "3  10  64  27  \n",
       "4  31  52  -6  \n",
       "\n",
       "[5 rows x 60 columns]"
      ]
     },
     "execution_count": 5,
     "metadata": {},
     "output_type": "execute_result"
    }
   ],
   "source": [
    "df.head()"
   ]
  },
  {
   "cell_type": "code",
   "execution_count": 13,
   "metadata": {},
   "outputs": [
    {
     "data": {
      "text/plain": [
       "0        67\n",
       "1        46\n",
       "2        50\n",
       "3        74\n",
       "4        87\n",
       "         ..\n",
       "99995    32\n",
       "99996    53\n",
       "99997    70\n",
       "99998    69\n",
       "99999    67\n",
       "Name: 49, Length: 100000, dtype: int64"
      ]
     },
     "execution_count": 13,
     "metadata": {},
     "output_type": "execute_result"
    }
   ],
   "source": [
    "df[\"49\"]"
   ]
  },
  {
   "cell_type": "code",
   "execution_count": 7,
   "metadata": {},
   "outputs": [],
   "source": [
    "time = np.arange(0, len(df)) / SAMPLE_RATE"
   ]
  },
  {
   "cell_type": "code",
   "execution_count": 8,
   "metadata": {},
   "outputs": [
    {
     "data": {
      "text/plain": [
       "array([0.00000e+00, 4.00000e-05, 8.00000e-05, ..., 3.99988e+00,\n",
       "       3.99992e+00, 3.99996e+00])"
      ]
     },
     "execution_count": 8,
     "metadata": {},
     "output_type": "execute_result"
    }
   ],
   "source": [
    "time"
   ]
  },
  {
   "cell_type": "code",
   "execution_count": 35,
   "metadata": {},
   "outputs": [],
   "source": [
    "single_electrode_df = pd.DataFrame()\n",
    "single_electrode_df[\"signal\"] = df[\"49\"]\n",
    "single_electrode_df[\"time\"] = time\n",
    "max_amplitude = single_electrode_df[\"signal\"].max()\n",
    "min_amplitude = single_electrode_df[\"signal\"].min()\n",
    "length = len(single_electrode_df)"
   ]
  },
  {
   "cell_type": "code",
   "execution_count": 41,
   "metadata": {},
   "outputs": [],
   "source": [
    "single_electrode_dict = {\n",
    "    \"max_amplitude\": int(max_amplitude),\n",
    "    \"min_amplitude\": int(min_amplitude),\n",
    "    \"length\": int(length),\n",
    "    \"sample_rate\": SAMPLE_RATE,\n",
    "    \"signal\": df[\"49\"].tolist(),\n",
    "    \"time\": time.tolist()\n",
    "}"
   ]
  },
  {
   "cell_type": "code",
   "execution_count": 42,
   "metadata": {},
   "outputs": [],
   "source": [
    "# Use json.dump to write dictionary to a file\n",
    "with open('../data/single_electrode.json', 'w') as f:\n",
    "    json.dump(single_electrode_dict, f)"
   ]
  }
 ],
 "metadata": {
  "kernelspec": {
   "display_name": "data_analytics",
   "language": "python",
   "name": "data_analytics"
  },
  "language_info": {
   "codemirror_mode": {
    "name": "ipython",
    "version": 3
   },
   "file_extension": ".py",
   "mimetype": "text/x-python",
   "name": "python",
   "nbconvert_exporter": "python",
   "pygments_lexer": "ipython3",
   "version": "3.9.16"
  },
  "orig_nbformat": 4
 },
 "nbformat": 4,
 "nbformat_minor": 2
}
